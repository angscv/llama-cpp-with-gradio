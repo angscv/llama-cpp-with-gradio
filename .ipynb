{
 "cells": [
  {
   "cell_type": "code",
   "execution_count": 1,
   "metadata": {},
   "outputs": [],
   "source": [
    "i = {\n",
    "    \"type\": \"object\",\n",
    "    \"properties\": {\n",
    "        \"order\": {\n",
    "            \"type\": \"integer\",\n",
    "            \"description\": \"Порядковый номер книги.\"\n",
    "        },\n",
    "        \"author\": {\n",
    "            \"type\": \"string\",\n",
    "            \"description\": \"Автор книги.\"\n",
    "        },\n",
    "        \"book_name\": {\n",
    "            \"type\": \"string\",\n",
    "            \"description\": \"Название книги\"\n",
    "        }\n",
    "    },\n",
    "    \"required\": [\n",
    "        \"order\",\n",
    "        \"author\",\n",
    "        \"book_name\"\n",
    "    ]\n",
    "}"
   ]
  },
  {
   "cell_type": "code",
   "execution_count": 2,
   "metadata": {},
   "outputs": [],
   "source": [
    "import json"
   ]
  },
  {
   "cell_type": "code",
   "execution_count": 5,
   "metadata": {},
   "outputs": [
    {
     "data": {
      "text/plain": [
       "'{\"type\": \"object\", \"properties\": {\"order\": {\"type\": \"integer\", \"description\": \"\\\\u041f\\\\u043e\\\\u0440\\\\u044f\\\\u0434\\\\u043a\\\\u043e\\\\u0432\\\\u044b\\\\u0439 \\\\u043d\\\\u043e\\\\u043c\\\\u0435\\\\u0440 \\\\u043a\\\\u043d\\\\u0438\\\\u0433\\\\u0438.\"}, \"author\": {\"type\": \"string\", \"description\": \"\\\\u0410\\\\u0432\\\\u0442\\\\u043e\\\\u0440 \\\\u043a\\\\u043d\\\\u0438\\\\u0433\\\\u0438.\"}, \"book_name\": {\"type\": \"string\", \"description\": \"\\\\u041d\\\\u0430\\\\u0437\\\\u0432\\\\u0430\\\\u043d\\\\u0438\\\\u0435 \\\\u043a\\\\u043d\\\\u0438\\\\u0433\\\\u0438\"}}, \"required\": [\"order\", \"author\", \"book_name\"]}'"
      ]
     },
     "execution_count": 5,
     "metadata": {},
     "output_type": "execute_result"
    }
   ],
   "source": [
    "json.dumps(i)"
   ]
  },
  {
   "cell_type": "code",
   "execution_count": null,
   "metadata": {},
   "outputs": [],
   "source": []
  }
 ],
 "metadata": {
  "kernelspec": {
   "display_name": "env",
   "language": "python",
   "name": "python3"
  },
  "language_info": {
   "codemirror_mode": {
    "name": "ipython",
    "version": 3
   },
   "file_extension": ".py",
   "mimetype": "text/x-python",
   "name": "python",
   "nbconvert_exporter": "python",
   "pygments_lexer": "ipython3",
   "version": "3.11.8"
  }
 },
 "nbformat": 4,
 "nbformat_minor": 2
}
